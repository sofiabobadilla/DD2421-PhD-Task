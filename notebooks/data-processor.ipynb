{
 "cells": [
  {
   "cell_type": "markdown",
   "metadata": {},
   "source": [
    "## Dataset Preprocessor\n",
    "\n",
    "Initial experiment setup\n",
    "\n",
    "- Initial idea: Classifier to identify vulnerable lines of code. \n",
    "- Dataset : smartbugs curated- vulnerable lines of code\n",
    "\n",
    "\n"
   ]
  },
  {
   "cell_type": "code",
   "execution_count": 8,
   "metadata": {},
   "outputs": [],
   "source": [
    "# First, get the map of contracts and respective line of code\n",
    "\n",
    "import os\n",
    "import sys\n",
    "import json\n",
    "\n",
    "dataset= \"smartbugs-curated\"\n",
    "\n",
    "path='../dataset/'+dataset\n",
    "if dataset == 'smartbugs-curated' :\n",
    "    vulnerability_localization= json.load(open(path+'/vulnerabilities.json'))\n"
   ]
  },
  {
   "cell_type": "code",
   "execution_count": 19,
   "metadata": {},
   "outputs": [],
   "source": [
    "\n",
    "\n",
    "## now prepare the dataset, for each contract, get the line of code that is vulnerable\n",
    "base_path = f'../dataset/{dataset}'\n",
    "# Function to extract vulnerable lines\n",
    "def extract_vulnerable_lines(contract_data):\n",
    "    vulnerable_lines = []\n",
    "    \n",
    "    for contract in contract_data:\n",
    "        contract_name = contract['name']\n",
    "        relative_path = contract['path']\n",
    "        full_path = os.path.join(base_path, relative_path)\n",
    "        \n",
    "        # Check if file exists\n",
    "        if not os.path.exists(full_path):\n",
    "            print(f\"Warning: File not found - {full_path}\")\n",
    "            continue\n",
    "        \n",
    "        # Read the file content\n",
    "        try:\n",
    "            with open(full_path, 'r', encoding='utf-8') as file:\n",
    "                file_lines = file.readlines()\n",
    "        except Exception as e:\n",
    "            print(f\"Error reading {full_path}: {e}\")\n",
    "            continue\n",
    "            \n",
    "        # Process vulnerabilities\n",
    "        for vulnerability in contract['vulnerabilities']:\n",
    "            category = vulnerability['category']\n",
    "            \n",
    "            for line_number in vulnerability['lines']:\n",
    "                # Adjust for 0-based indexing\n",
    "                adjusted_line_number = line_number - 1\n",
    "                \n",
    "                # Extract the actual code (if line number is valid)\n",
    "                code_line = \"\"\n",
    "                if 0 <= adjusted_line_number < len(file_lines):\n",
    "                    code_line = file_lines[adjusted_line_number].strip()\n",
    "                else:\n",
    "                    print(f\"Warning: Line {line_number} out of range in {full_path}\")\n",
    "                \n",
    "                vulnerable_lines.append({\n",
    "                    'contract_name': contract_name,\n",
    "                    'contract_path': relative_path,\n",
    "                    'full_path': full_path,\n",
    "                    'pragma_version': contract['pragma'],\n",
    "                    'source': contract['source'],\n",
    "                    'line_number': line_number,\n",
    "                    'vulnerability_category': category,\n",
    "                    'code': code_line\n",
    "                })\n",
    "    \n",
    "    return vulnerable_lines\n",
    "        \n",
    "    "
   ]
  },
  {
   "cell_type": "code",
   "execution_count": 21,
   "metadata": {},
   "outputs": [
    {
     "name": "stdout",
     "output_type": "stream",
     "text": [
      "222\n",
      "[{'contract_name': 'FibonacciBalance.sol', 'contract_path': 'dataset/access_control/FibonacciBalance.sol', 'full_path': '../dataset/smartbugs-curated/dataset/access_control/FibonacciBalance.sol', 'pragma_version': '0.4.22', 'source': 'https://github.com/sigp/solidity-security-blog', 'line_number': 31, 'vulnerability_category': 'access_control', 'code': 'require(fibonacciLibrary.delegatecall(fibSig, withdrawalCounter));'}, {'contract_name': 'FibonacciBalance.sol', 'contract_path': 'dataset/access_control/FibonacciBalance.sol', 'full_path': '../dataset/smartbugs-curated/dataset/access_control/FibonacciBalance.sol', 'pragma_version': '0.4.22', 'source': 'https://github.com/sigp/solidity-security-blog', 'line_number': 38, 'vulnerability_category': 'access_control', 'code': 'require(fibonacciLibrary.delegatecall(msg.data));'}, {'contract_name': 'arbitrary_location_write_simple.sol', 'contract_path': 'dataset/access_control/arbitrary_location_write_simple.sol', 'full_path': '../dataset/smartbugs-curated/dataset/access_control/arbitrary_location_write_simple.sol', 'pragma_version': '0.4.25', 'source': 'https://smartcontractsecurity.github.io/SWC-registry/docs/SWC-124#arbitrary-location-write-simplesol', 'line_number': 27, 'vulnerability_category': 'access_control', 'code': 'require(0 <= bonusCodes.length); // this condition is always true since array lengths are unsigned'}]\n"
     ]
    }
   ],
   "source": [
    "vulnerable_lines = extract_vulnerable_lines(vulnerability_localization)\n",
    "print(len(vulnerable_lines))\n",
    "print(vulnerable_lines[0:3])\n",
    "\n",
    "## storage data\n",
    "with open(f'../dataset/{dataset}_vulnerable_lines.json', 'w') as file:\n",
    "    json.dump(vulnerable_lines, file, indent=4)\n",
    "\n"
   ]
  },
  {
   "cell_type": "code",
   "execution_count": null,
   "metadata": {},
   "outputs": [],
   "source": []
  }
 ],
 "metadata": {
  "kernelspec": {
   "display_name": "Python 3",
   "language": "python",
   "name": "python3"
  },
  "language_info": {
   "codemirror_mode": {
    "name": "ipython",
    "version": 3
   },
   "file_extension": ".py",
   "mimetype": "text/x-python",
   "name": "python",
   "nbconvert_exporter": "python",
   "pygments_lexer": "ipython3",
   "version": "3.12.3"
  }
 },
 "nbformat": 4,
 "nbformat_minor": 2
}
