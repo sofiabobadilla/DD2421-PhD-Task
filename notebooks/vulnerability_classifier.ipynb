{
 "cells": [
  {
   "cell_type": "markdown",
   "metadata": {},
   "source": [
    "## Classifier for vulnerable lines of code on smart contracts\n",
    "\n",
    "\n"
   ]
  },
  {
   "cell_type": "code",
   "execution_count": 1,
   "metadata": {},
   "outputs": [
    {
     "name": "stderr",
     "output_type": "stream",
     "text": [
      "/tmp/ipykernel_2357427/1465743661.py:2: DeprecationWarning: scipy.misc is deprecated and will be removed in 2.0.0\n",
      "  from scipy import misc\n"
     ]
    }
   ],
   "source": [
    "import numpy as np\n",
    "from scipy import misc\n",
    "from importlib import reload\n",
    "from labfuns import *\n",
    "import random\n",
    "import warnings\n",
    "warnings.filterwarnings('ignore')\n",
    "from models import *"
   ]
  },
  {
   "cell_type": "markdown",
   "metadata": {},
   "source": []
  },
  {
   "cell_type": "code",
   "execution_count": 2,
   "metadata": {},
   "outputs": [],
   "source": [
    "## Get the data\n",
    "dataset='smartbugs-curated'\n",
    "train_df_sb= pd.read_csv('../dataset/'+dataset+'_train_data.csv')\n",
    "test_df_sb= pd.read_csv('../dataset/'+dataset+'_test_data.csv')\n",
    "X_train_sb = train_df_sb.drop(['label','index'], axis=1)\n",
    "y_train_sb = train_df_sb['label']\n",
    "X_test_sb = test_df_sb.drop(['label','index'], axis=1)\n",
    "y_test_sb = test_df_sb['label']"
   ]
  },
  {
   "cell_type": "markdown",
   "metadata": {},
   "source": [
    "# Random Forest"
   ]
  },
  {
   "cell_type": "code",
   "execution_count": 3,
   "metadata": {},
   "outputs": [
    {
     "name": "stdout",
     "output_type": "stream",
     "text": [
      "Random Forest Accuracy: 0.8876404494382022\n",
      "Random Forest Precision: 0.84\n",
      "Random Forest Recall: 0.9545454545454546\n",
      "Random Forest F1 Score: 0.8936170212765957\n"
     ]
    }
   ],
   "source": [
    "from sklearn.metrics import accuracy_score, precision_score, recall_score, f1_score\n",
    "from sklearn.ensemble import RandomForestClassifier\n",
    "from sklearn.preprocessing import StandardScaler\n",
    "\n",
    "# Initialize Random Forest classifier\n",
    "rf_clf_improved_sb = RandomForestClassifier(max_depth=10, min_samples_leaf=1, min_samples_split=10, n_estimators=300, random_state=42)\n",
    "\n",
    "# Train the classifier\n",
    "rf_clf_improved_sb.fit(X_train_sb, y_train_sb)\n",
    "\n",
    "# Make predictions\n",
    "y_pred_rf_improved_sb = rf_clf_improved_sb.predict(X_test_sb)\n",
    "\n",
    "# Evaluate the model\n",
    "print(\"Random Forest Accuracy:\", accuracy_score(y_test_sb, y_pred_rf_improved_sb))\n",
    "print(\"Random Forest Precision:\", precision_score(y_test_sb, y_pred_rf_improved_sb))\n",
    "print(\"Random Forest Recall:\", recall_score(y_test_sb, y_pred_rf_improved_sb))\n",
    "print(\"Random Forest F1 Score:\", f1_score(y_test_sb, y_pred_rf_improved_sb))\n",
    "\n"
   ]
  },
  {
   "cell_type": "markdown",
   "metadata": {},
   "source": [
    "# Now with the True Positive dataset"
   ]
  },
  {
   "cell_type": "code",
   "execution_count": 4,
   "metadata": {},
   "outputs": [],
   "source": [
    "## Get the data\n",
    "dataset='sb-heists'\n",
    "train_df_sb_heists= pd.read_csv('../dataset/'+dataset+'_train_data.csv')\n",
    "test_df_sb_heists= pd.read_csv('../dataset/'+dataset+'_test_data.csv')\n",
    "X_train_sb_heists = train_df_sb_heists.drop(['label','index'], axis=1)\n",
    "y_train_sb_heists = train_df_sb_heists['label']\n",
    "X_test_sb_heists = test_df_sb_heists.drop(['label','index'], axis=1)\n",
    "y_test_sb_heists = test_df_sb_heists['label']"
   ]
  },
  {
   "cell_type": "code",
   "execution_count": 5,
   "metadata": {},
   "outputs": [
    {
     "name": "stdout",
     "output_type": "stream",
     "text": [
      "Random Forest Accuracy: 0.8444444444444444\n",
      "Random Forest Precision: 0.8333333333333334\n",
      "Random Forest Recall: 0.9259259259259259\n"
     ]
    }
   ],
   "source": [
    "from sklearn.metrics import accuracy_score, precision_score, recall_score\n",
    "from sklearn.ensemble import RandomForestClassifier\n",
    "from sklearn.preprocessing import StandardScaler\n",
    "\n",
    "# Initialize Random Forest classifier\n",
    "rf_clf_improved_sb_heists = RandomForestClassifier(max_depth=10, min_samples_leaf=1, min_samples_split=10, n_estimators=300, random_state=42)\n",
    "\n",
    "# Train the classifier\n",
    "rf_clf_improved_sb_heists.fit(X_train_sb_heists, y_train_sb_heists)\n",
    "\n",
    "# Make predictions\n",
    "y_pred_rf_improved_sb_heists = rf_clf_improved_sb_heists.predict(X_test_sb_heists)\n",
    "\n",
    "# Evaluate the model\n",
    "print(\"Random Forest Accuracy:\", accuracy_score(y_test_sb_heists, y_pred_rf_improved_sb_heists))\n",
    "print(\"Random Forest Precision:\", precision_score(y_test_sb_heists, y_pred_rf_improved_sb_heists))\n",
    "print(\"Random Forest Recall:\", recall_score(y_test_sb_heists, y_pred_rf_improved_sb_heists))\n",
    "\n"
   ]
  },
  {
   "cell_type": "markdown",
   "metadata": {},
   "source": [
    "## Now the model with True and False Positives performance on the only True Positive test datasets"
   ]
  },
  {
   "cell_type": "code",
   "execution_count": 6,
   "metadata": {},
   "outputs": [
    {
     "name": "stdout",
     "output_type": "stream",
     "text": [
      "Random Forest Accuracy: 0.4222222222222222\n",
      "Random Forest Precision: 0.5185185185185185\n",
      "Random Forest Recall: 0.5185185185185185\n"
     ]
    }
   ],
   "source": [
    "y_pred_rf_improved_sb_for_sb_heists = rf_clf_improved_sb.predict(X_test_sb_heists)\n",
    "print(\"Random Forest Accuracy:\", accuracy_score(y_test_sb_heists, y_pred_rf_improved_sb_for_sb_heists))\n",
    "print(\"Random Forest Precision:\", precision_score(y_test_sb_heists, y_pred_rf_improved_sb_for_sb_heists))\n",
    "print(\"Random Forest Recall:\", recall_score(y_test_sb_heists, y_pred_rf_improved_sb_for_sb_heists))\n"
   ]
  },
  {
   "cell_type": "code",
   "execution_count": 7,
   "metadata": {},
   "outputs": [
    {
     "name": "stdout",
     "output_type": "stream",
     "text": [
      "Random Forest Accuracy: 0.42696629213483145\n",
      "Random Forest Precision: 0.4461538461538462\n",
      "Random Forest Recall: 0.6590909090909091\n"
     ]
    }
   ],
   "source": [
    "## Now the model train with only True Positives on the mix data\n",
    "\n",
    "y_pred_rf_improved_sb_heists_for_sb= rf_clf_improved_sb_heists.predict(X_test_sb)\n",
    "print(\"Random Forest Accuracy:\", accuracy_score(y_test_sb, y_pred_rf_improved_sb_heists_for_sb))\n",
    "print(\"Random Forest Precision:\", precision_score(y_test_sb, y_pred_rf_improved_sb_heists_for_sb))\n",
    "print(\"Random Forest Recall:\", recall_score(y_test_sb, y_pred_rf_improved_sb_heists_for_sb))\n"
   ]
  }
 ],
 "metadata": {
  "kernelspec": {
   "display_name": "usr",
   "language": "python",
   "name": "python3"
  },
  "language_info": {
   "codemirror_mode": {
    "name": "ipython",
    "version": 3
   },
   "file_extension": ".py",
   "mimetype": "text/x-python",
   "name": "python",
   "nbconvert_exporter": "python",
   "pygments_lexer": "ipython3",
   "version": "3.12.3"
  }
 },
 "nbformat": 4,
 "nbformat_minor": 2
}
